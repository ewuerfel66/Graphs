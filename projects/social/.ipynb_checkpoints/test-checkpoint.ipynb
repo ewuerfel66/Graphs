{
 "cells": [
  {
   "cell_type": "code",
   "execution_count": 3,
   "metadata": {},
   "outputs": [],
   "source": [
    "from social import SocialGraph"
   ]
  },
  {
   "cell_type": "code",
   "execution_count": 4,
   "metadata": {},
   "outputs": [],
   "source": [
    "sg = SocialGraph()"
   ]
  },
  {
   "cell_type": "code",
   "execution_count": 5,
   "metadata": {},
   "outputs": [
    {
     "name": "stdout",
     "output_type": "stream",
     "text": [
      "WARNING: You cannot be friends with yourself\n",
      "COLLISIONS: 1\n"
     ]
    }
   ],
   "source": [
    "sg.populate_graph(100, 2)"
   ]
  },
  {
   "cell_type": "code",
   "execution_count": 6,
   "metadata": {},
   "outputs": [
    {
     "data": {
      "text/plain": [
       "{1: {67},\n",
       " 2: {23, 47, 63, 100},\n",
       " 3: {31, 32, 98},\n",
       " 4: {28, 29},\n",
       " 5: {21},\n",
       " 6: {9, 18, 24, 38},\n",
       " 7: {32, 45},\n",
       " 8: {48, 82},\n",
       " 9: {6, 75},\n",
       " 10: {18, 62},\n",
       " 11: {62},\n",
       " 12: set(),\n",
       " 13: {89, 94},\n",
       " 14: {50},\n",
       " 15: {36, 56},\n",
       " 16: {44, 84},\n",
       " 17: {18},\n",
       " 18: {6, 10, 17, 21, 39, 52},\n",
       " 19: {28},\n",
       " 20: set(),\n",
       " 21: {5, 18, 29, 68, 69},\n",
       " 22: {26, 39, 72, 84},\n",
       " 23: {2, 48},\n",
       " 24: {6, 66},\n",
       " 25: {100},\n",
       " 26: {22, 34, 99},\n",
       " 27: {43},\n",
       " 28: {4, 19},\n",
       " 29: {4, 21, 81},\n",
       " 30: {31, 40, 77},\n",
       " 31: {3, 30, 77, 83},\n",
       " 32: {3, 7},\n",
       " 33: {68, 92},\n",
       " 34: {26, 49, 50, 51},\n",
       " 35: set(),\n",
       " 36: {15, 76, 93},\n",
       " 37: {69},\n",
       " 38: {6, 52, 93},\n",
       " 39: {18, 22, 81, 86, 100},\n",
       " 40: {30, 48, 49, 61},\n",
       " 41: {42, 48},\n",
       " 42: {41, 90},\n",
       " 43: {27, 79},\n",
       " 44: {16},\n",
       " 45: {7, 46, 78, 97},\n",
       " 46: {45},\n",
       " 47: {2},\n",
       " 48: {8, 23, 40, 41},\n",
       " 49: {34, 40, 77},\n",
       " 50: {14, 34},\n",
       " 51: {34, 71},\n",
       " 52: {18, 38},\n",
       " 53: {77},\n",
       " 54: {56},\n",
       " 55: {72, 97, 100},\n",
       " 56: {15, 54},\n",
       " 57: {95},\n",
       " 58: set(),\n",
       " 59: set(),\n",
       " 60: set(),\n",
       " 61: {40},\n",
       " 62: {10, 11},\n",
       " 63: {2, 84},\n",
       " 64: set(),\n",
       " 65: {81, 95, 98},\n",
       " 66: {24, 70, 81},\n",
       " 67: {1},\n",
       " 68: {21, 33},\n",
       " 69: {21, 37},\n",
       " 70: {66},\n",
       " 71: {51, 77},\n",
       " 72: {22, 55},\n",
       " 73: set(),\n",
       " 74: set(),\n",
       " 75: {9},\n",
       " 76: {36, 84, 97},\n",
       " 77: {30, 31, 49, 53, 71},\n",
       " 78: {45, 92},\n",
       " 79: {43},\n",
       " 80: set(),\n",
       " 81: {29, 39, 65, 66},\n",
       " 82: {8},\n",
       " 83: {31},\n",
       " 84: {16, 22, 63, 76},\n",
       " 85: {93, 95},\n",
       " 86: {39},\n",
       " 87: {91},\n",
       " 88: set(),\n",
       " 89: {13},\n",
       " 90: {42},\n",
       " 91: {87, 95},\n",
       " 92: {33, 78, 99},\n",
       " 93: {36, 38, 85},\n",
       " 94: {13},\n",
       " 95: {57, 65, 85, 91},\n",
       " 96: set(),\n",
       " 97: {45, 55, 76},\n",
       " 98: {3, 65},\n",
       " 99: {26, 92},\n",
       " 100: {2, 25, 39, 55}}"
      ]
     },
     "execution_count": 6,
     "metadata": {},
     "output_type": "execute_result"
    }
   ],
   "source": [
    "sg.friendships"
   ]
  },
  {
   "cell_type": "code",
   "execution_count": 9,
   "metadata": {},
   "outputs": [
    {
     "data": {
      "text/plain": [
       "{89: [89], 13: [89, 13], 94: [89, 13, 94]}"
      ]
     },
     "execution_count": 9,
     "metadata": {},
     "output_type": "execute_result"
    }
   ],
   "source": [
    "sg.get_all_social_paths(89)"
   ]
  },
  {
   "cell_type": "code",
   "execution_count": null,
   "metadata": {},
   "outputs": [],
   "source": []
  }
 ],
 "metadata": {
  "kernelspec": {
   "display_name": "Python 3",
   "language": "python",
   "name": "python3"
  },
  "language_info": {
   "codemirror_mode": {
    "name": "ipython",
    "version": 3
   },
   "file_extension": ".py",
   "mimetype": "text/x-python",
   "name": "python",
   "nbconvert_exporter": "python",
   "pygments_lexer": "ipython3",
   "version": "3.7.3"
  }
 },
 "nbformat": 4,
 "nbformat_minor": 2
}
